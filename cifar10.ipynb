{
 "cells": [
  {
   "cell_type": "code",
   "execution_count": 2,
   "metadata": {},
   "outputs": [
    {
     "name": "stdout",
     "output_type": "stream",
     "text": [
      "The autoreload extension is already loaded. To reload it, use:\n",
      "  %reload_ext autoreload\n"
     ]
    }
   ],
   "source": [
    "import tensorflow as tf\n",
    "from ResidualAttentionNetwork import ResidualAttentionNetwork\n",
    "\n",
    "%load_ext autoreload\n",
    "%autoreload 2"
   ]
  },
  {
   "cell_type": "code",
   "execution_count": 3,
   "metadata": {},
   "outputs": [],
   "source": [
    "cifar10 = tf.keras.datasets.cifar10\n",
    "\n",
    "(X_train, y_train), (X_test, y_test) = cifar10.load_data()\n",
    "\n",
    "X_train = X_train.astype('float32') / 255\n",
    "X_test = X_test.astype('float32') / 255\n",
    "\n",
    "input_shape = X_train.shape[1:]\n",
    "output_size = 10"
   ]
  },
  {
   "cell_type": "code",
   "execution_count": 4,
   "metadata": {},
   "outputs": [],
   "source": [
    "from tensorflow.keras.optimizers import SGD\n",
    "sgd = SGD(lr=1e-3, decay=1e-4, momentum=0.9, nesterov=True)"
   ]
  },
  {
   "cell_type": "code",
   "execution_count": 6,
   "metadata": {},
   "outputs": [],
   "source": [
    "model = ResidualAttentionNetwork(input_shape=input_shape, output_size=output_size, mask_activation='sigmoid').Attention_56()\n",
    "model.compile(optimizer=sgd, loss='sparse_categorical_crossentropy', metrics=['accuracy'])"
   ]
  },
  {
   "cell_type": "code",
   "execution_count": null,
   "metadata": {},
   "outputs": [
    {
     "name": "stdout",
     "output_type": "stream",
     "text": [
      "Epoch 1/50\n",
      "1407/1407 [==============================] - 227s 154ms/step - loss: 5.5966 - accuracy: 0.3387 - val_loss: 1.4668 - val_accuracy: 0.4882\n",
      "Epoch 2/50\n",
      "1407/1407 [==============================] - 211s 150ms/step - loss: 1.3256 - accuracy: 0.5269 - val_loss: 1.2563 - val_accuracy: 0.5458\n",
      "Epoch 3/50\n",
      "1407/1407 [==============================] - 210s 149ms/step - loss: 1.1450 - accuracy: 0.5954 - val_loss: 1.1682 - val_accuracy: 0.5802\n",
      "Epoch 4/50\n",
      "1407/1407 [==============================] - 211s 150ms/step - loss: 1.0215 - accuracy: 0.6390 - val_loss: 1.1036 - val_accuracy: 0.6132\n",
      "Epoch 5/50\n",
      "1407/1407 [==============================] - 210s 149ms/step - loss: 0.9261 - accuracy: 0.6742 - val_loss: 1.1551 - val_accuracy: 0.5984\n",
      "Epoch 6/50\n",
      "1407/1407 [==============================] - 210s 150ms/step - loss: 0.8354 - accuracy: 0.7060 - val_loss: 0.9792 - val_accuracy: 0.6642\n",
      "Epoch 7/50\n",
      "1407/1407 [==============================] - 210s 149ms/step - loss: 0.7672 - accuracy: 0.7306 - val_loss: 0.9682 - val_accuracy: 0.6706\n",
      "Epoch 8/50\n",
      "1407/1407 [==============================] - 210s 149ms/step - loss: 0.6899 - accuracy: 0.7565 - val_loss: 0.9970 - val_accuracy: 0.6574\n",
      "Epoch 9/50\n",
      "1407/1407 [==============================] - 211s 150ms/step - loss: 0.6143 - accuracy: 0.7833 - val_loss: 0.9644 - val_accuracy: 0.6812\n",
      "Epoch 10/50\n",
      "1407/1407 [==============================] - 212s 151ms/step - loss: 0.5648 - accuracy: 0.8031 - val_loss: 1.0320 - val_accuracy: 0.6686\n",
      "Epoch 11/50\n",
      "1407/1407 [==============================] - 211s 150ms/step - loss: 0.4821 - accuracy: 0.8289 - val_loss: 1.1492 - val_accuracy: 0.6492\n",
      "Epoch 12/50\n",
      "1407/1407 [==============================] - 211s 150ms/step - loss: 0.4374 - accuracy: 0.8479 - val_loss: 1.1765 - val_accuracy: 0.6644\n",
      "Epoch 13/50\n",
      "1407/1407 [==============================] - 211s 150ms/step - loss: 0.3764 - accuracy: 0.8713 - val_loss: 1.1995 - val_accuracy: 0.6528\n",
      "Epoch 14/50\n",
      "1407/1407 [==============================] - 211s 150ms/step - loss: 0.3235 - accuracy: 0.8890 - val_loss: 1.0936 - val_accuracy: 0.6878\n",
      "Epoch 15/50\n",
      "1407/1407 [==============================] - 210s 149ms/step - loss: 0.2710 - accuracy: 0.9056 - val_loss: 1.2131 - val_accuracy: 0.6836\n",
      "Epoch 16/50\n",
      " 668/1407 [=============>................] - ETA: 1:48 - loss: 0.2140 - accuracy: 0.9237"
     ]
    }
   ],
   "source": [
    "epochs=50\n",
    "\n",
    "history = model.fit(X_train, y_train, validation_split=0.1, epochs=epochs)"
   ]
  },
  {
   "cell_type": "markdown",
   "metadata": {},
   "source": [
    "### Attention 56"
   ]
  },
  {
   "cell_type": "code",
   "execution_count": null,
   "metadata": {},
   "outputs": [],
   "source": [
    "from tensorflow.keras.optimizers import SGD\n",
    "sgd = SGD(lr=1e-3, decay=1e-4, momentum=0.9, nesterov=True)"
   ]
  },
  {
   "cell_type": "code",
   "execution_count": null,
   "metadata": {},
   "outputs": [],
   "source": [
    "#NAL\n",
    "%%time\n",
    "attention_56_nal = ResidualAttentionNetwork(input_shape=input_shape, output_size=output_size, mask_activation='sigmoid').Attention_56()\n",
    "attention_56_nal.compile(optimizer=sgd, loss='sparse_categorical_crossentropy', metrics=['accuracy'])\n",
    "attention_56_nal.summary()"
   ]
  },
  {
   "cell_type": "code",
   "execution_count": null,
   "metadata": {},
   "outputs": [],
   "source": [
    "epochs=15\n",
    "\n",
    "attention_56_nal_history = attention_56_nal.fit(X_train, y_train, validation_split=0.1, epochs=epochs)"
   ]
  },
  {
   "cell_type": "code",
   "execution_count": null,
   "metadata": {},
   "outputs": [],
   "source": [
    "attention_56_nal.evaluate(X_test, y_test)"
   ]
  },
  {
   "cell_type": "code",
   "execution_count": null,
   "metadata": {},
   "outputs": [],
   "source": [
    "#ARL\n",
    "%%time\n",
    "model = ResidualAttentionNetwork(input_shape=input_shape, output_size=output_size, mask_activation='sigmoid').Attention_56()\n",
    "model.compile(optimizer=sgd, loss='sparse_categorical_crossentropy', metrics=['accuracy'])"
   ]
  },
  {
   "cell_type": "code",
   "execution_count": null,
   "metadata": {},
   "outputs": [],
   "source": [
    "model.summary()"
   ]
  },
  {
   "cell_type": "code",
   "execution_count": null,
   "metadata": {},
   "outputs": [],
   "source": [
    "epochs=15\n",
    "\n",
    "history = model.fit(X_train, y_train, validation_split=0.1, epochs=epochs)"
   ]
  },
  {
   "cell_type": "code",
   "execution_count": null,
   "metadata": {},
   "outputs": [],
   "source": [
    "model.evaluate(X_test, y_test)"
   ]
  },
  {
   "cell_type": "markdown",
   "metadata": {},
   "source": [
    "### attention 92"
   ]
  },
  {
   "cell_type": "code",
   "execution_count": null,
   "metadata": {},
   "outputs": [],
   "source": [
    "from tensorflow.keras.optimizers import SGD\n",
    "sgd = SGD(lr=1e-3, decay=1e-4, momentum=0.9, nesterov=True)"
   ]
  },
  {
   "cell_type": "code",
   "execution_count": null,
   "metadata": {
    "scrolled": true
   },
   "outputs": [],
   "source": [
    "%%time\n",
    "model_92 = ResidualAttentionNetwork(input_shape=input_shape, output_size=output_size, mask_activation='sigmoid').Attention_92()\n",
    "model_92.compile(optimizer=sgd, loss='sparse_categorical_crossentropy', metrics=['accuracy'])"
   ]
  },
  {
   "cell_type": "code",
   "execution_count": null,
   "metadata": {},
   "outputs": [],
   "source": [
    "epochs=15\n",
    "\n",
    "history_92 = model_92.fit(X_train, y_train, validation_split=0.1, epochs=epochs)"
   ]
  },
  {
   "cell_type": "code",
   "execution_count": null,
   "metadata": {},
   "outputs": [],
   "source": [
    "cifar100 = tf.keras.datasets.cifar100\n",
    "\n",
    "(X_train, y_train), (X_test, y_test) = cifar100.load_data()\n",
    "\n",
    "X_train = X_train.astype('float32') / 255\n",
    "X_test = X_test.astype('float32') / 255\n",
    "\n",
    "input_shape = X_train.shape[1:]\n",
    "output_size = 100"
   ]
  },
  {
   "cell_type": "code",
   "execution_count": null,
   "metadata": {},
   "outputs": [],
   "source": [
    "%%time\n",
    "model_92 = ResidualAttentionNetwork(input_shape=input_shape, output_size=output_size, mask_activation='sigmoid').Attention_92()\n",
    "model_92.compile(optimizer=sgd, loss='sparse_categorical_crossentropy', metrics=['accuracy'])"
   ]
  },
  {
   "cell_type": "code",
   "execution_count": null,
   "metadata": {},
   "outputs": [],
   "source": [
    "epochs=100\n",
    "\n",
    "history_92 = model_92.fit(X_train, y_train, validation_split=0.1, epochs=epochs)"
   ]
  }
 ],
 "metadata": {
  "kernelspec": {
   "display_name": "Python 3",
   "language": "python",
   "name": "python3"
  },
  "language_info": {
   "codemirror_mode": {
    "name": "ipython",
    "version": 3
   },
   "file_extension": ".py",
   "mimetype": "text/x-python",
   "name": "python",
   "nbconvert_exporter": "python",
   "pygments_lexer": "ipython3",
   "version": "3.8.5"
  }
 },
 "nbformat": 4,
 "nbformat_minor": 4
}
